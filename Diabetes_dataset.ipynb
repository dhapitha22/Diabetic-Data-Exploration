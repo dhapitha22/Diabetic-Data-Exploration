{
  "cells": [
    {
      "cell_type": "markdown",
      "metadata": {
        "id": "view-in-github",
        "colab_type": "text"
      },
      "source": [
        "<a href=\"https://colab.research.google.com/github/dhapitha22/Diabetic-Data-Exploration/blob/main/Diabetes_dataset.ipynb\" target=\"_parent\"><img src=\"https://colab.research.google.com/assets/colab-badge.svg\" alt=\"Open In Colab\"/></a>"
      ]
    },
    {
      "cell_type": "markdown",
      "source": [
        "# **Diabetes Data Analysis**\n",
        "\n",
        " **1.\tIntroduction**\n",
        "\n",
        "\n",
        "\n",
        "---\n",
        "\n",
        "\n",
        "\n",
        "Diabetes is a prevalent non-communicable disease globally. It is a chronic condition characterized by excessively high blood glucose levels, typically regulated by the hormone insulin, produced by the pancreas. Diabetes arises when issues occur with this hormone and its function in the human bloodstream.\n",
        "\n",
        "The number of diabetes cases is increasing worldwide, with the International Diabetes Federation reporting over 500 million people affected as of 2022. Furthermore, it caused an estimated 6.7 million deaths by the end of 2021, with many of these deaths occurring in low and middle-income countries. Unfortunately, more than half of all diabetes cases remain undiagnosed. The World Health Organization predicts that the number of deaths will double by 2045, and diabetes can lead to numerous complications, including heart disease, kidney disease, blindness, and eye problems.\n",
        "\n",
        "Various risk factors are associated with diabetes. In this project, as a data scientist, I have used a dataset containing case scenarios and diagnoses from Frankfurt Hospital, Germany. The goal is to create an exploratory data analysis pipeline to predict the likelihood of diabetes in a given situation.\n",
        "\n",
        "\n",
        "\n",
        "However, diabetes is linked with a variety of risk factors. As a data scientist, I used a dataset containing a part of situations and their conclusion from the hospital Frankfurt, Germany to create an experimental data analysis workflow to forecast whether diabetes will arise or not in a given scenario.\n",
        "\n",
        "\n"
      ],
      "metadata": {
        "id": "OGZit8xUzLx5"
      }
    },
    {
      "cell_type": "markdown",
      "source": [
        "# **2.\tData Collection**\n",
        "\n",
        " **2.1 Dataset**\n",
        "\n",
        "To create the diabetes classification system, the hospital in Frankfurt, Germany provided the diabetics dataset. The data is stored in a CSV file, which stands for comma separated values. The two main features of this file are 1 and 0, which stand for \"Diabetics\" and \"No Diabetics,\" respectively.\n",
        "\n",
        "Dataset link - https://www.kaggle.com/johndasilva/diabetes\n",
        "\n",
        "\n",
        ">  ***Characteristics of data***\n",
        "\n",
        "\n",
        "  ![Screenshot 2023-03-08 145724.png](data:image/png;base64,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)\n"
      ],
      "metadata": {
        "id": "DVxZK4Nxjk3H"
      }
    },
    {
      "cell_type": "markdown",
      "source": [
        "  **2.1\tDescription of Dataset**\n",
        "\n",
        "The dataset consists of two groups: \"Diabetes\" and \"No Diabetes\". The various features in the dataset represent different risk factors for diabetes, which can be used to predict whether a person has diabetes or not. The \"Outcome\" column is the target variable that we aim to predict, with 0 indicating \"No diabetes\" and 1 indicating \"diabetes\".\n",
        "\n",
        "***The attributes in the dataset are as follows:***\n",
        "\n",
        "**Pregnancies**: The total number of times the patient has been pregnant (measured in number of pregnancies).\n",
        "\n",
        "**Glucose**: The amount of glucose present in the patient's blood.\n",
        "\n",
        "**Blood Pressure**: The patient's systolic blood pressure, expressed in millimeters of mercury (mm Hg).\n",
        "\n",
        "**Skin Thickness**: The measurement of subcutaneous adipose tissue in the anterior abdomen, with an average thickness of 15.73 mm.\n",
        "\n",
        "**Insulin**: The amount of insulin present in the patient's blood, measured in (mu U/ml).\n",
        "\n",
        "**BMI**: A measure of body fat based on a person's height and weight, calculated as weight in kilograms divided by the square of the height in meters.\n",
        "\n",
        "**Diabetes Pedigree Function**: Information on the patient's family history of diabetes mellitus and genetic ties.\n",
        "\n",
        "**Age**: The patient's current age in years.\n",
        "\n",
        "**Outcome**: A binary variable indicating whether the patient has diabetes or not, with 0 indicating \"No diabetes\" and 1 indicating \"diabetes\".\n",
        "\n",
        "  \n"
      ],
      "metadata": {
        "id": "mHE1hli0oZIr"
      }
    },
    {
      "cell_type": "markdown",
      "source": [
        "##**Import the necessary libraries**"
      ],
      "metadata": {
        "id": "roFMZQBytdVA"
      }
    },
    {
      "cell_type": "code",
      "execution_count": null,
      "metadata": {
        "id": "KPyVNosBTWvx"
      },
      "outputs": [],
      "source": [
        "import numpy as np\n",
        "import pandas as pd\n",
        "import seaborn as sns\n",
        "import matplotlib.pyplot as plt\n",
        "from matplotlib import rcParams\n",
        "import sklearn.metrics as sm\n",
        "%matplotlib inline\n",
        "from sklearn.model_selection import train_test_split , GridSearchCV"
      ]
    },
    {
      "cell_type": "markdown",
      "source": [
        "## **Importing the data set**"
      ],
      "metadata": {
        "id": "nG7rcmIl-GOH"
      }
    },
    {
      "cell_type": "code",
      "execution_count": null,
      "metadata": {
        "id": "rvrSnlBZTWvz"
      },
      "outputs": [],
      "source": [
        "data_set = pd.read_csv(\"dataset_diabetes.csv\")"
      ]
    },
    {
      "cell_type": "markdown",
      "source": [
        "**Show the dataset**\n",
        "\n",
        "The code below displays a part of the provided dataset\n",
        "\n"
      ],
      "metadata": {
        "id": "OtgbswVv1oih"
      }
    },
    {
      "cell_type": "code",
      "execution_count": null,
      "metadata": {
        "colab": {
          "base_uri": "https://localhost:8080/",
          "height": 206
        },
        "id": "Myk1egESTWv0",
        "outputId": "a3bdb898-35fc-4fb3-d835-77594cbefbd8"
      },
      "outputs": [
        {
          "output_type": "execute_result",
          "data": {
            "text/plain": [
              "   Pregnancies  Glucose  BloodPressure  SkinThickness  Insulin   BMI  \\\n",
              "0            2      138             62             35        0  33.6   \n",
              "1            0       84             82             31      125  38.2   \n",
              "2            0      145              0              0        0  44.2   \n",
              "3            0      135             68             42      250  42.3   \n",
              "4            1      139             62             41      480  40.7   \n",
              "\n",
              "   DiabetesPedigreeFunction  Age  Outcome  \n",
              "0                     0.127   47        1  \n",
              "1                     0.233   23        0  \n",
              "2                     0.630   31        1  \n",
              "3                     0.365   24        1  \n",
              "4                     0.536   21        0  "
            ],
            "text/html": [
              "\n",
              "  <div id=\"df-424952a9-92fe-4333-b9c2-2a48951920df\">\n",
              "    <div class=\"colab-df-container\">\n",
              "      <div>\n",
              "<style scoped>\n",
              "    .dataframe tbody tr th:only-of-type {\n",
              "        vertical-align: middle;\n",
              "    }\n",
              "\n",
              "    .dataframe tbody tr th {\n",
              "        vertical-align: top;\n",
              "    }\n",
              "\n",
              "    .dataframe thead th {\n",
              "        text-align: right;\n",
              "    }\n",
              "</style>\n",
              "<table border=\"1\" class=\"dataframe\">\n",
              "  <thead>\n",
              "    <tr style=\"text-align: right;\">\n",
              "      <th></th>\n",
              "      <th>Pregnancies</th>\n",
              "      <th>Glucose</th>\n",
              "      <th>BloodPressure</th>\n",
              "      <th>SkinThickness</th>\n",
              "      <th>Insulin</th>\n",
              "      <th>BMI</th>\n",
              "      <th>DiabetesPedigreeFunction</th>\n",
              "      <th>Age</th>\n",
              "      <th>Outcome</th>\n",
              "    </tr>\n",
              "  </thead>\n",
              "  <tbody>\n",
              "    <tr>\n",
              "      <th>0</th>\n",
              "      <td>2</td>\n",
              "      <td>138</td>\n",
              "      <td>62</td>\n",
              "      <td>35</td>\n",
              "      <td>0</td>\n",
              "      <td>33.6</td>\n",
              "      <td>0.127</td>\n",
              "      <td>47</td>\n",
              "      <td>1</td>\n",
              "    </tr>\n",
              "    <tr>\n",
              "      <th>1</th>\n",
              "      <td>0</td>\n",
              "      <td>84</td>\n",
              "      <td>82</td>\n",
              "      <td>31</td>\n",
              "      <td>125</td>\n",
              "      <td>38.2</td>\n",
              "      <td>0.233</td>\n",
              "      <td>23</td>\n",
              "      <td>0</td>\n",
              "    </tr>\n",
              "    <tr>\n",
              "      <th>2</th>\n",
              "      <td>0</td>\n",
              "      <td>145</td>\n",
              "      <td>0</td>\n",
              "      <td>0</td>\n",
              "      <td>0</td>\n",
              "      <td>44.2</td>\n",
              "      <td>0.630</td>\n",
              "      <td>31</td>\n",
              "      <td>1</td>\n",
              "    </tr>\n",
              "    <tr>\n",
              "      <th>3</th>\n",
              "      <td>0</td>\n",
              "      <td>135</td>\n",
              "      <td>68</td>\n",
              "      <td>42</td>\n",
              "      <td>250</td>\n",
              "      <td>42.3</td>\n",
              "      <td>0.365</td>\n",
              "      <td>24</td>\n",
              "      <td>1</td>\n",
              "    </tr>\n",
              "    <tr>\n",
              "      <th>4</th>\n",
              "      <td>1</td>\n",
              "      <td>139</td>\n",
              "      <td>62</td>\n",
              "      <td>41</td>\n",
              "      <td>480</td>\n",
              "      <td>40.7</td>\n",
              "      <td>0.536</td>\n",
              "      <td>21</td>\n",
              "      <td>0</td>\n",
              "    </tr>\n",
              "  </tbody>\n",
              "</table>\n",
              "</div>\n",
              "      <button class=\"colab-df-convert\" onclick=\"convertToInteractive('df-424952a9-92fe-4333-b9c2-2a48951920df')\"\n",
              "              title=\"Convert this dataframe to an interactive table.\"\n",
              "              style=\"display:none;\">\n",
              "        \n",
              "  <svg xmlns=\"http://www.w3.org/2000/svg\" height=\"24px\"viewBox=\"0 0 24 24\"\n",
              "       width=\"24px\">\n",
              "    <path d=\"M0 0h24v24H0V0z\" fill=\"none\"/>\n",
              "    <path d=\"M18.56 5.44l.94 2.06.94-2.06 2.06-.94-2.06-.94-.94-2.06-.94 2.06-2.06.94zm-11 1L8.5 8.5l.94-2.06 2.06-.94-2.06-.94L8.5 2.5l-.94 2.06-2.06.94zm10 10l.94 2.06.94-2.06 2.06-.94-2.06-.94-.94-2.06-.94 2.06-2.06.94z\"/><path d=\"M17.41 7.96l-1.37-1.37c-.4-.4-.92-.59-1.43-.59-.52 0-1.04.2-1.43.59L10.3 9.45l-7.72 7.72c-.78.78-.78 2.05 0 2.83L4 21.41c.39.39.9.59 1.41.59.51 0 1.02-.2 1.41-.59l7.78-7.78 2.81-2.81c.8-.78.8-2.07 0-2.86zM5.41 20L4 18.59l7.72-7.72 1.47 1.35L5.41 20z\"/>\n",
              "  </svg>\n",
              "      </button>\n",
              "      \n",
              "  <style>\n",
              "    .colab-df-container {\n",
              "      display:flex;\n",
              "      flex-wrap:wrap;\n",
              "      gap: 12px;\n",
              "    }\n",
              "\n",
              "    .colab-df-convert {\n",
              "      background-color: #E8F0FE;\n",
              "      border: none;\n",
              "      border-radius: 50%;\n",
              "      cursor: pointer;\n",
              "      display: none;\n",
              "      fill: #1967D2;\n",
              "      height: 32px;\n",
              "      padding: 0 0 0 0;\n",
              "      width: 32px;\n",
              "    }\n",
              "\n",
              "    .colab-df-convert:hover {\n",
              "      background-color: #E2EBFA;\n",
              "      box-shadow: 0px 1px 2px rgba(60, 64, 67, 0.3), 0px 1px 3px 1px rgba(60, 64, 67, 0.15);\n",
              "      fill: #174EA6;\n",
              "    }\n",
              "\n",
              "    [theme=dark] .colab-df-convert {\n",
              "      background-color: #3B4455;\n",
              "      fill: #D2E3FC;\n",
              "    }\n",
              "\n",
              "    [theme=dark] .colab-df-convert:hover {\n",
              "      background-color: #434B5C;\n",
              "      box-shadow: 0px 1px 3px 1px rgba(0, 0, 0, 0.15);\n",
              "      filter: drop-shadow(0px 1px 2px rgba(0, 0, 0, 0.3));\n",
              "      fill: #FFFFFF;\n",
              "    }\n",
              "  </style>\n",
              "\n",
              "      <script>\n",
              "        const buttonEl =\n",
              "          document.querySelector('#df-424952a9-92fe-4333-b9c2-2a48951920df button.colab-df-convert');\n",
              "        buttonEl.style.display =\n",
              "          google.colab.kernel.accessAllowed ? 'block' : 'none';\n",
              "\n",
              "        async function convertToInteractive(key) {\n",
              "          const element = document.querySelector('#df-424952a9-92fe-4333-b9c2-2a48951920df');\n",
              "          const dataTable =\n",
              "            await google.colab.kernel.invokeFunction('convertToInteractive',\n",
              "                                                     [key], {});\n",
              "          if (!dataTable) return;\n",
              "\n",
              "          const docLinkHtml = 'Like what you see? Visit the ' +\n",
              "            '<a target=\"_blank\" href=https://colab.research.google.com/notebooks/data_table.ipynb>data table notebook</a>'\n",
              "            + ' to learn more about interactive tables.';\n",
              "          element.innerHTML = '';\n",
              "          dataTable['output_type'] = 'display_data';\n",
              "          await google.colab.output.renderOutput(dataTable, element);\n",
              "          const docLink = document.createElement('div');\n",
              "          docLink.innerHTML = docLinkHtml;\n",
              "          element.appendChild(docLink);\n",
              "        }\n",
              "      </script>\n",
              "    </div>\n",
              "  </div>\n",
              "  "
            ]
          },
          "metadata": {},
          "execution_count": 6
        }
      ],
      "source": [
        "#Display the data\n",
        "data_set.head()"
      ]
    },
    {
      "cell_type": "markdown",
      "source": [
        "##**Visualize variables using histograms**\n",
        "\n",
        "The code below is used to generate histograms for each characteristic in the collection. A histogram can be used to visualize the spread of data for each characteristic. The result of the following code is a collection of histograms. We can see from the output that the features have distinct distribution values.\n"
      ],
      "metadata": {
        "id": "n18JVfMI-THm"
      }
    },
    {
      "cell_type": "code",
      "source": [
        "data_set.hist()"
      ],
      "metadata": {
        "colab": {
          "base_uri": "https://localhost:8080/",
          "height": 437
        },
        "id": "V58Acbo7-WjN",
        "outputId": "06662de9-12ae-40fb-ddb9-19c28c036f6f"
      },
      "execution_count": null,
      "outputs": [
        {
          "output_type": "execute_result",
          "data": {
            "text/plain": [
              "array([[<Axes: title={'center': 'Pregnancies'}>,\n",
              "        <Axes: title={'center': 'Glucose'}>,\n",
              "        <Axes: title={'center': 'BloodPressure'}>],\n",
              "       [<Axes: title={'center': 'SkinThickness'}>,\n",
              "        <Axes: title={'center': 'Insulin'}>,\n",
              "        <Axes: title={'center': 'BMI'}>],\n",
              "       [<Axes: title={'center': 'DiabetesPedigreeFunction'}>,\n",
              "        <Axes: title={'center': 'Age'}>,\n",
              "        <Axes: title={'center': 'Outcome'}>]], dtype=object)"
            ]
          },
          "metadata": {},
          "execution_count": 89
        },
        {
          "output_type": "display_data",
          "data": {
            "text/plain": [
              "<Figure size 432x288 with 9 Axes>"
            ],
            "image/png": "[encoded data removed]"
          },
          "metadata": {
            "needs_background": "light"
          }
        }
      ]
    },
    {
      "cell_type": "markdown",
      "source": [
        "# **Data Preprocessing**"
      ],
      "metadata": {
        "id": "Pcz2aKQt0V20"
      }
    },
    {
      "cell_type": "markdown",
      "source": [
        "There appear to be no null values (NaN) in this collection, but some zero values contradict the information in their individual sections. This is due to the fact that certain groups, such as the quantity of glucose in the patient's blood, diastolic blood pressure, epidermis thickness, insulin level in the patient's blood, BMI, and age, cannot be negative. As a result, zero numbers are deemed missing data.\n",
        "\n",
        "\n",
        "Preprocessing the data is required to handle the problem of missing data. The first step is to find the zero values in each column and substitute them with null values using the Pandas DataFrame's replace() function. Then, using another Pandas method called fillna, the blank values can be replaced with the mean values of each column.().\n"
      ],
      "metadata": {
        "id": "sWZa6IYl4kxE"
      }
    },
    {
      "cell_type": "markdown",
      "source": [
        "**Display comprehensive details about each attribute.**"
      ],
      "metadata": {
        "id": "cyq9scTYD4EZ"
      }
    },
    {
      "cell_type": "code",
      "execution_count": null,
      "metadata": {
        "id": "fN2s62qETWv1",
        "outputId": "52c78fea-edc0-4af1-950e-ec2b7a54578d",
        "colab": {
          "base_uri": "https://localhost:8080/",
          "height": 331
        }
      },
      "outputs": [
        {
          "output_type": "execute_result",
          "data": {
            "text/plain": [
              "                           count       mean         std     min     25%  \\\n",
              "Pregnancies               2000.0    3.70350    3.306063   0.000   1.000   \n",
              "Glucose                   2000.0  121.18250   32.068636   0.000  99.000   \n",
              "BloodPressure             2000.0   69.14550   19.188315   0.000  63.500   \n",
              "SkinThickness             2000.0   20.93500   16.103243   0.000   0.000   \n",
              "Insulin                   2000.0   80.25400  111.180534   0.000   0.000   \n",
              "BMI                       2000.0   32.19300    8.149901   0.000  27.375   \n",
              "DiabetesPedigreeFunction  2000.0    0.47093    0.323553   0.078   0.244   \n",
              "Age                       2000.0   33.09050   11.786423  21.000  24.000   \n",
              "Outcome                   2000.0    0.34200    0.474498   0.000   0.000   \n",
              "\n",
              "                              50%      75%     max  \n",
              "Pregnancies                 3.000    6.000   17.00  \n",
              "Glucose                   117.000  141.000  199.00  \n",
              "BloodPressure              72.000   80.000  122.00  \n",
              "SkinThickness              23.000   32.000  110.00  \n",
              "Insulin                    40.000  130.000  744.00  \n",
              "BMI                        32.300   36.800   80.60  \n",
              "DiabetesPedigreeFunction    0.376    0.624    2.42  \n",
              "Age                        29.000   40.000   81.00  \n",
              "Outcome                     0.000    1.000    1.00  "
            ],
            "text/html": [
              "\n",
              "  <div id=\"df-9036414a-a35e-4c5d-ab3e-0a7c3177b30c\">\n",
              "    <div class=\"colab-df-container\">\n",
              "      <div>\n",
              "<style scoped>\n",
              "    .dataframe tbody tr th:only-of-type {\n",
              "        vertical-align: middle;\n",
              "    }\n",
              "\n",
              "    .dataframe tbody tr th {\n",
              "        vertical-align: top;\n",
              "    }\n",
              "\n",
              "    .dataframe thead th {\n",
              "        text-align: right;\n",
              "    }\n",
              "</style>\n",
              "<table border=\"1\" class=\"dataframe\">\n",
              "  <thead>\n",
              "    <tr style=\"text-align: right;\">\n",
              "      <th></th>\n",
              "      <th>count</th>\n",
              "      <th>mean</th>\n",
              "      <th>std</th>\n",
              "      <th>min</th>\n",
              "      <th>25%</th>\n",
              "      <th>50%</th>\n",
              "      <th>75%</th>\n",
              "      <th>max</th>\n",
              "    </tr>\n",
              "  </thead>\n",
              "  <tbody>\n",
              "    <tr>\n",
              "      <th>Pregnancies</th>\n",
              "      <td>2000.0</td>\n",
              "      <td>3.70350</td>\n",
              "      <td>3.306063</td>\n",
              "      <td>0.000</td>\n",
              "      <td>1.000</td>\n",
              "      <td>3.000</td>\n",
              "      <td>6.000</td>\n",
              "      <td>17.00</td>\n",
              "    </tr>\n",
              "    <tr>\n",
              "      <th>Glucose</th>\n",
              "      <td>2000.0</td>\n",
              "      <td>121.18250</td>\n",
              "      <td>32.068636</td>\n",
              "      <td>0.000</td>\n",
              "      <td>99.000</td>\n",
              "      <td>117.000</td>\n",
              "      <td>141.000</td>\n",
              "      <td>199.00</td>\n",
              "    </tr>\n",
              "    <tr>\n",
              "      <th>BloodPressure</th>\n",
              "      <td>2000.0</td>\n",
              "      <td>69.14550</td>\n",
              "      <td>19.188315</td>\n",
              "      <td>0.000</td>\n",
              "      <td>63.500</td>\n",
              "      <td>72.000</td>\n",
              "      <td>80.000</td>\n",
              "      <td>122.00</td>\n",
              "    </tr>\n",
              "    <tr>\n",
              "      <th>SkinThickness</th>\n",
              "      <td>2000.0</td>\n",
              "      <td>20.93500</td>\n",
              "      <td>16.103243</td>\n",
              "      <td>0.000</td>\n",
              "      <td>0.000</td>\n",
              "      <td>23.000</td>\n",
              "      <td>32.000</td>\n",
              "      <td>110.00</td>\n",
              "    </tr>\n",
              "    <tr>\n",
              "      <th>Insulin</th>\n",
              "      <td>2000.0</td>\n",
              "      <td>80.25400</td>\n",
              "      <td>111.180534</td>\n",
              "      <td>0.000</td>\n",
              "      <td>0.000</td>\n",
              "      <td>40.000</td>\n",
              "      <td>130.000</td>\n",
              "      <td>744.00</td>\n",
              "    </tr>\n",
              "    <tr>\n",
              "      <th>BMI</th>\n",
              "      <td>2000.0</td>\n",
              "      <td>32.19300</td>\n",
              "      <td>8.149901</td>\n",
              "      <td>0.000</td>\n",
              "      <td>27.375</td>\n",
              "      <td>32.300</td>\n",
              "      <td>36.800</td>\n",
              "      <td>80.60</td>\n",
              "    </tr>\n",
              "    <tr>\n",
              "      <th>DiabetesPedigreeFunction</th>\n",
              "      <td>2000.0</td>\n",
              "      <td>0.47093</td>\n",
              "      <td>0.323553</td>\n",
              "      <td>0.078</td>\n",
              "      <td>0.244</td>\n",
              "      <td>0.376</td>\n",
              "      <td>0.624</td>\n",
              "      <td>2.42</td>\n",
              "    </tr>\n",
              "    <tr>\n",
              "      <th>Age</th>\n",
              "      <td>2000.0</td>\n",
              "      <td>33.09050</td>\n",
              "      <td>11.786423</td>\n",
              "      <td>21.000</td>\n",
              "      <td>24.000</td>\n",
              "      <td>29.000</td>\n",
              "      <td>40.000</td>\n",
              "      <td>81.00</td>\n",
              "    </tr>\n",
              "    <tr>\n",
              "      <th>Outcome</th>\n",
              "      <td>2000.0</td>\n",
              "      <td>0.34200</td>\n",
              "      <td>0.474498</td>\n",
              "      <td>0.000</td>\n",
              "      <td>0.000</td>\n",
              "      <td>0.000</td>\n",
              "      <td>1.000</td>\n",
              "      <td>1.00</td>\n",
              "    </tr>\n",
              "  </tbody>\n",
              "</table>\n",
              "</div>\n",
              "      <button class=\"colab-df-convert\" onclick=\"convertToInteractive('df-9036414a-a35e-4c5d-ab3e-0a7c3177b30c')\"\n",
              "              title=\"Convert this dataframe to an interactive table.\"\n",
              "              style=\"display:none;\">\n",
              "        \n",
              "  <svg xmlns=\"http://www.w3.org/2000/svg\" height=\"24px\"viewBox=\"0 0 24 24\"\n",
              "       width=\"24px\">\n",
              "    <path d=\"M0 0h24v24H0V0z\" fill=\"none\"/>\n",
              "    <path d=\"M18.56 5.44l.94 2.06.94-2.06 2.06-.94-2.06-.94-.94-2.06-.94 2.06-2.06.94zm-11 1L8.5 8.5l.94-2.06 2.06-.94-2.06-.94L8.5 2.5l-.94 2.06-2.06.94zm10 10l.94 2.06.94-2.06 2.06-.94-2.06-.94-.94-2.06-.94 2.06-2.06.94z\"/><path d=\"M17.41 7.96l-1.37-1.37c-.4-.4-.92-.59-1.43-.59-.52 0-1.04.2-1.43.59L10.3 9.45l-7.72 7.72c-.78.78-.78 2.05 0 2.83L4 21.41c.39.39.9.59 1.41.59.51 0 1.02-.2 1.41-.59l7.78-7.78 2.81-2.81c.8-.78.8-2.07 0-2.86zM5.41 20L4 18.59l7.72-7.72 1.47 1.35L5.41 20z\"/>\n",
              "  </svg>\n",
              "      </button>\n",
              "      \n",
              "  <style>\n",
              "    .colab-df-container {\n",
              "      display:flex;\n",
              "      flex-wrap:wrap;\n",
              "      gap: 12px;\n",
              "    }\n",
              "\n",
              "    .colab-df-convert {\n",
              "      background-color: #E8F0FE;\n",
              "      border: none;\n",
              "      border-radius: 50%;\n",
              "      cursor: pointer;\n",
              "      display: none;\n",
              "      fill: #1967D2;\n",
              "      height: 32px;\n",
              "      padding: 0 0 0 0;\n",
              "      width: 32px;\n",
              "    }\n",
              "\n",
              "    .colab-df-convert:hover {\n",
              "      background-color: #E2EBFA;\n",
              "      box-shadow: 0px 1px 2px rgba(60, 64, 67, 0.3), 0px 1px 3px 1px rgba(60, 64, 67, 0.15);\n",
              "      fill: #174EA6;\n",
              "    }\n",
              "\n",
              "    [theme=dark] .colab-df-convert {\n",
              "      background-color: #3B4455;\n",
              "      fill: #D2E3FC;\n",
              "    }\n",
              "\n",
              "    [theme=dark] .colab-df-convert:hover {\n",
              "      background-color: #434B5C;\n",
              "      box-shadow: 0px 1px 3px 1px rgba(0, 0, 0, 0.15);\n",
              "      filter: drop-shadow(0px 1px 2px rgba(0, 0, 0, 0.3));\n",
              "      fill: #FFFFFF;\n",
              "    }\n",
              "  </style>\n",
              "\n",
              "      <script>\n",
              "        const buttonEl =\n",
              "          document.querySelector('#df-9036414a-a35e-4c5d-ab3e-0a7c3177b30c button.colab-df-convert');\n",
              "        buttonEl.style.display =\n",
              "          google.colab.kernel.accessAllowed ? 'block' : 'none';\n",
              "\n",
              "        async function convertToInteractive(key) {\n",
              "          const element = document.querySelector('#df-9036414a-a35e-4c5d-ab3e-0a7c3177b30c');\n",
              "          const dataTable =\n",
              "            await google.colab.kernel.invokeFunction('convertToInteractive',\n",
              "                                                     [key], {});\n",
              "          if (!dataTable) return;\n",
              "\n",
              "          const docLinkHtml = 'Like what you see? Visit the ' +\n",
              "            '<a target=\"_blank\" href=https://colab.research.google.com/notebooks/data_table.ipynb>data table notebook</a>'\n",
              "            + ' to learn more about interactive tables.';\n",
              "          element.innerHTML = '';\n",
              "          dataTable['output_type'] = 'display_data';\n",
              "          await google.colab.output.renderOutput(dataTable, element);\n",
              "          const docLink = document.createElement('div');\n",
              "          docLink.innerHTML = docLinkHtml;\n",
              "          element.appendChild(docLink);\n",
              "        }\n",
              "      </script>\n",
              "    </div>\n",
              "  </div>\n",
              "  "
            ]
          },
          "metadata": {},
          "execution_count": 8
        }
      ],
      "source": [
        "data_set.describe().transpose()"
      ]
    },
    {
      "cell_type": "markdown",
      "source": [
        "**Check the existing null values**"
      ],
      "metadata": {
        "id": "NwuTf_bZ-lQh"
      }
    },
    {
      "cell_type": "code",
      "execution_count": null,
      "metadata": {
        "id": "GFPLERb5TWv1",
        "outputId": "c3ae8c71-d93d-43d5-82bb-5ddbc81eafd5",
        "colab": {
          "base_uri": "https://localhost:8080/"
        }
      },
      "outputs": [
        {
          "output_type": "stream",
          "name": "stdout",
          "text": [
            "0\n"
          ]
        }
      ],
      "source": [
        "sum_of_null = sum(data_set.isnull().sum())\n",
        "print(sum_of_null)"
      ]
    },
    {
      "cell_type": "markdown",
      "source": [
        "**Determine the amount of zeros in each column**"
      ],
      "metadata": {
        "id": "qDJahYpp_SIx"
      }
    },
    {
      "cell_type": "code",
      "execution_count": null,
      "metadata": {
        "id": "kksNrdGTTWv2",
        "outputId": "4e6d3450-35a5-4a1f-fd31-43ed31cef50e",
        "colab": {
          "base_uri": "https://localhost:8080/"
        }
      },
      "outputs": [
        {
          "output_type": "stream",
          "name": "stdout",
          "text": [
            "Glucose                      13\n",
            "BloodPressure                90\n",
            "SkinThickness               573\n",
            "Insulin                     956\n",
            "BMI                          28\n",
            "DiabetesPedigreeFunction      0\n",
            "Age                           0\n",
            "dtype: int64\n"
          ]
        }
      ],
      "source": [
        "print((data_set[['Glucose','BloodPressure','SkinThickness','Insulin','BMI','DiabetesPedigreeFunction','Age']] == 0).sum())"
      ]
    },
    {
      "cell_type": "markdown",
      "source": [
        "**make the zero values as NaN or missing and count those values in each column**"
      ],
      "metadata": {
        "id": "Ksz8iK44C4ge"
      }
    },
    {
      "cell_type": "code",
      "execution_count": null,
      "metadata": {
        "id": "ys8pQmV6TWv2",
        "outputId": "98161d43-2835-48f5-96d2-9d88189c4ddc",
        "colab": {
          "base_uri": "https://localhost:8080/"
        }
      },
      "outputs": [
        {
          "output_type": "stream",
          "name": "stdout",
          "text": [
            "Pregnancies                   0\n",
            "Glucose                      13\n",
            "BloodPressure                90\n",
            "SkinThickness               573\n",
            "Insulin                     956\n",
            "BMI                          28\n",
            "DiabetesPedigreeFunction      0\n",
            "Age                           0\n",
            "Outcome                       0\n",
            "dtype: int64\n"
          ]
        }
      ],
      "source": [
        "data_set[['Glucose','BloodPressure','SkinThickness','Insulin','BMI','DiabetesPedigreeFunction','Age']] = data_set[['Glucose','BloodPressure','SkinThickness','Insulin','BMI','DiabetesPedigreeFunction','Age']].replace(0, np.NaN)\n",
        "print(data_set.isnull().sum())"
      ]
    },
    {
      "cell_type": "markdown",
      "source": [
        "**fill missing values with mean column values and get the count of NaN values in each column**"
      ],
      "metadata": {
        "id": "HrLVOifHEpd3"
      }
    },
    {
      "cell_type": "code",
      "execution_count": null,
      "metadata": {
        "id": "MSMgpl2tTWv3",
        "outputId": "c8327b32-19be-4405-fd0e-4956d9467e0a",
        "colab": {
          "base_uri": "https://localhost:8080/"
        }
      },
      "outputs": [
        {
          "output_type": "stream",
          "name": "stdout",
          "text": [
            "Pregnancies                 0\n",
            "Glucose                     0\n",
            "BloodPressure               0\n",
            "SkinThickness               0\n",
            "Insulin                     0\n",
            "BMI                         0\n",
            "DiabetesPedigreeFunction    0\n",
            "Age                         0\n",
            "Outcome                     0\n",
            "dtype: int64\n"
          ]
        }
      ],
      "source": [
        "data_set.fillna(data_set.mean(), inplace=True)\n",
        "print(data_set.isnull().sum())"
      ]
    },
    {
      "cell_type": "markdown",
      "source": [
        " **The preprocessed data**"
      ],
      "metadata": {
        "id": "R2tSgE-E5egt"
      }
    },
    {
      "cell_type": "code",
      "execution_count": null,
      "metadata": {
        "id": "5INrQ9nJTWv3",
        "outputId": "98f6c84d-5a85-4b43-ff85-29a795579155",
        "colab": {
          "base_uri": "https://localhost:8080/",
          "height": 206
        }
      },
      "outputs": [
        {
          "output_type": "execute_result",
          "data": {
            "text/plain": [
              "   Pregnancies  Glucose  BloodPressure  SkinThickness     Insulin   BMI  \\\n",
              "0            2    138.0      62.000000      35.000000  153.743295  33.6   \n",
              "1            0     84.0      82.000000      31.000000  125.000000  38.2   \n",
              "2            0    145.0      72.403665      29.341275  153.743295  44.2   \n",
              "3            0    135.0      68.000000      42.000000  250.000000  42.3   \n",
              "4            1    139.0      62.000000      41.000000  480.000000  40.7   \n",
              "\n",
              "   DiabetesPedigreeFunction  Age  Outcome  \n",
              "0                     0.127   47        1  \n",
              "1                     0.233   23        0  \n",
              "2                     0.630   31        1  \n",
              "3                     0.365   24        1  \n",
              "4                     0.536   21        0  "
            ],
            "text/html": [
              "\n",
              "  <div id=\"df-fc546f9d-3fcd-4ca6-b7b7-233e1214a4e5\">\n",
              "    <div class=\"colab-df-container\">\n",
              "      <div>\n",
              "<style scoped>\n",
              "    .dataframe tbody tr th:only-of-type {\n",
              "        vertical-align: middle;\n",
              "    }\n",
              "\n",
              "    .dataframe tbody tr th {\n",
              "        vertical-align: top;\n",
              "    }\n",
              "\n",
              "    .dataframe thead th {\n",
              "        text-align: right;\n",
              "    }\n",
              "</style>\n",
              "<table border=\"1\" class=\"dataframe\">\n",
              "  <thead>\n",
              "    <tr style=\"text-align: right;\">\n",
              "      <th></th>\n",
              "      <th>Pregnancies</th>\n",
              "      <th>Glucose</th>\n",
              "      <th>BloodPressure</th>\n",
              "      <th>SkinThickness</th>\n",
              "      <th>Insulin</th>\n",
              "      <th>BMI</th>\n",
              "      <th>DiabetesPedigreeFunction</th>\n",
              "      <th>Age</th>\n",
              "      <th>Outcome</th>\n",
              "    </tr>\n",
              "  </thead>\n",
              "  <tbody>\n",
              "    <tr>\n",
              "      <th>0</th>\n",
              "      <td>2</td>\n",
              "      <td>138.0</td>\n",
              "      <td>62.000000</td>\n",
              "      <td>35.000000</td>\n",
              "      <td>153.743295</td>\n",
              "      <td>33.6</td>\n",
              "      <td>0.127</td>\n",
              "      <td>47</td>\n",
              "      <td>1</td>\n",
              "    </tr>\n",
              "    <tr>\n",
              "      <th>1</th>\n",
              "      <td>0</td>\n",
              "      <td>84.0</td>\n",
              "      <td>82.000000</td>\n",
              "      <td>31.000000</td>\n",
              "      <td>125.000000</td>\n",
              "      <td>38.2</td>\n",
              "      <td>0.233</td>\n",
              "      <td>23</td>\n",
              "      <td>0</td>\n",
              "    </tr>\n",
              "    <tr>\n",
              "      <th>2</th>\n",
              "      <td>0</td>\n",
              "      <td>145.0</td>\n",
              "      <td>72.403665</td>\n",
              "      <td>29.341275</td>\n",
              "      <td>153.743295</td>\n",
              "      <td>44.2</td>\n",
              "      <td>0.630</td>\n",
              "      <td>31</td>\n",
              "      <td>1</td>\n",
              "    </tr>\n",
              "    <tr>\n",
              "      <th>3</th>\n",
              "      <td>0</td>\n",
              "      <td>135.0</td>\n",
              "      <td>68.000000</td>\n",
              "      <td>42.000000</td>\n",
              "      <td>250.000000</td>\n",
              "      <td>42.3</td>\n",
              "      <td>0.365</td>\n",
              "      <td>24</td>\n",
              "      <td>1</td>\n",
              "    </tr>\n",
              "    <tr>\n",
              "      <th>4</th>\n",
              "      <td>1</td>\n",
              "      <td>139.0</td>\n",
              "      <td>62.000000</td>\n",
              "      <td>41.000000</td>\n",
              "      <td>480.000000</td>\n",
              "      <td>40.7</td>\n",
              "      <td>0.536</td>\n",
              "      <td>21</td>\n",
              "      <td>0</td>\n",
              "    </tr>\n",
              "  </tbody>\n",
              "</table>\n",
              "</div>\n",
              "      <button class=\"colab-df-convert\" onclick=\"convertToInteractive('df-fc546f9d-3fcd-4ca6-b7b7-233e1214a4e5')\"\n",
              "              title=\"Convert this dataframe to an interactive table.\"\n",
              "              style=\"display:none;\">\n",
              "        \n",
              "  <svg xmlns=\"http://www.w3.org/2000/svg\" height=\"24px\"viewBox=\"0 0 24 24\"\n",
              "       width=\"24px\">\n",
              "    <path d=\"M0 0h24v24H0V0z\" fill=\"none\"/>\n",
              "    <path d=\"M18.56 5.44l.94 2.06.94-2.06 2.06-.94-2.06-.94-.94-2.06-.94 2.06-2.06.94zm-11 1L8.5 8.5l.94-2.06 2.06-.94-2.06-.94L8.5 2.5l-.94 2.06-2.06.94zm10 10l.94 2.06.94-2.06 2.06-.94-2.06-.94-.94-2.06-.94 2.06-2.06.94z\"/><path d=\"M17.41 7.96l-1.37-1.37c-.4-.4-.92-.59-1.43-.59-.52 0-1.04.2-1.43.59L10.3 9.45l-7.72 7.72c-.78.78-.78 2.05 0 2.83L4 21.41c.39.39.9.59 1.41.59.51 0 1.02-.2 1.41-.59l7.78-7.78 2.81-2.81c.8-.78.8-2.07 0-2.86zM5.41 20L4 18.59l7.72-7.72 1.47 1.35L5.41 20z\"/>\n",
              "  </svg>\n",
              "      </button>\n",
              "      \n",
              "  <style>\n",
              "    .colab-df-container {\n",
              "      display:flex;\n",
              "      flex-wrap:wrap;\n",
              "      gap: 12px;\n",
              "    }\n",
              "\n",
              "    .colab-df-convert {\n",
              "      background-color: #E8F0FE;\n",
              "      border: none;\n",
              "      border-radius: 50%;\n",
              "      cursor: pointer;\n",
              "      display: none;\n",
              "      fill: #1967D2;\n",
              "      height: 32px;\n",
              "      padding: 0 0 0 0;\n",
              "      width: 32px;\n",
              "    }\n",
              "\n",
              "    .colab-df-convert:hover {\n",
              "      background-color: #E2EBFA;\n",
              "      box-shadow: 0px 1px 2px rgba(60, 64, 67, 0.3), 0px 1px 3px 1px rgba(60, 64, 67, 0.15);\n",
              "      fill: #174EA6;\n",
              "    }\n",
              "\n",
              "    [theme=dark] .colab-df-convert {\n",
              "      background-color: #3B4455;\n",
              "      fill: #D2E3FC;\n",
              "    }\n",
              "\n",
              "    [theme=dark] .colab-df-convert:hover {\n",
              "      background-color: #434B5C;\n",
              "      box-shadow: 0px 1px 3px 1px rgba(0, 0, 0, 0.15);\n",
              "      filter: drop-shadow(0px 1px 2px rgba(0, 0, 0, 0.3));\n",
              "      fill: #FFFFFF;\n",
              "    }\n",
              "  </style>\n",
              "\n",
              "      <script>\n",
              "        const buttonEl =\n",
              "          document.querySelector('#df-fc546f9d-3fcd-4ca6-b7b7-233e1214a4e5 button.colab-df-convert');\n",
              "        buttonEl.style.display =\n",
              "          google.colab.kernel.accessAllowed ? 'block' : 'none';\n",
              "\n",
              "        async function convertToInteractive(key) {\n",
              "          const element = document.querySelector('#df-fc546f9d-3fcd-4ca6-b7b7-233e1214a4e5');\n",
              "          const dataTable =\n",
              "            await google.colab.kernel.invokeFunction('convertToInteractive',\n",
              "                                                     [key], {});\n",
              "          if (!dataTable) return;\n",
              "\n",
              "          const docLinkHtml = 'Like what you see? Visit the ' +\n",
              "            '<a target=\"_blank\" href=https://colab.research.google.com/notebooks/data_table.ipynb>data table notebook</a>'\n",
              "            + ' to learn more about interactive tables.';\n",
              "          element.innerHTML = '';\n",
              "          dataTable['output_type'] = 'display_data';\n",
              "          await google.colab.output.renderOutput(dataTable, element);\n",
              "          const docLink = document.createElement('div');\n",
              "          docLink.innerHTML = docLinkHtml;\n",
              "          element.appendChild(docLink);\n",
              "        }\n",
              "      </script>\n",
              "    </div>\n",
              "  </div>\n",
              "  "
            ]
          },
          "metadata": {},
          "execution_count": 95
        }
      ],
      "source": [
        "#Display the data\n",
        "data_set.head()"
      ]
    },
    {
      "cell_type": "markdown",
      "source": [
        "# **Using Python analysis, there are business problem question relating to the diabetes dataset that are clarified**"
      ],
      "metadata": {
        "id": "WHIxpm0sC3mN"
      }
    },
    {
      "cell_type": "markdown",
      "source": [
        "**1. How do the patients' body mass index (BMI) values vary by diabetes status?**"
      ],
      "metadata": {
        "id": "Inla7rL1MUHE"
      }
    },
    {
      "cell_type": "markdown",
      "source": [
        "Understanding the link between BMI and diabetes state can assist healthcare practitioners in creating suitable lifestyle measures and nutritional suggestions to reduce the risk of getting diabetes. Furthermore, this data can assist clinicians in predicting the potential health dangers associated with greater BMI values in diabetic patients, as well as anticipating the kinds of medical treatments that may be needed.\n",
        "\n",
        "> group by the diabetes status and calculate average BMI.\n",
        "\n"
      ],
      "metadata": {
        "id": "pJWcWvP3MXXx"
      }
    },
    {
      "cell_type": "code",
      "source": [
        "bmi_avg = data_set.groupby('Outcome')['BMI'].mean()\n",
        "print(bmi_avg)"
      ],
      "metadata": {
        "colab": {
          "base_uri": "https://localhost:8080/"
        },
        "id": "jSnj79oTMYkA",
        "outputId": "65e65750-4680-4a3b-b6f4-5de181dc7308"
      },
      "execution_count": null,
      "outputs": [
        {
          "output_type": "stream",
          "name": "stdout",
          "text": [
            "Outcome\n",
            "0    31.18773\n",
            "1    35.46367\n",
            "Name: BMI, dtype: float64\n"
          ]
        }
      ]
    },
    {
      "cell_type": "markdown",
      "source": [
        "Diabetes patients have a considerably higher BMI (35.46) than individuals without diabetes. (31.18). This indicates that having a higher BMI may put you at a higher chance of getting diabetes."
      ],
      "metadata": {
        "id": "gbr-6M4hPZIP"
      }
    },
    {
      "cell_type": "markdown",
      "source": [
        "**2. Does pregnancy affect the diagnosis of diabetes?**"
      ],
      "metadata": {
        "id": "Fv-PEDznq6-Q"
      }
    },
    {
      "cell_type": "markdown",
      "source": [
        "groupby() function  organizes the data in the data_set DataFrame according to the columns for Pregnancies and Outcome. A grouping object is produced as a result, which can be used to combine the data.\n",
        "\n",
        "unstack(): This method converts the grouping object into a DataFrame, where the groups are converted into columns and the index is replaced with the values of the first grouping column. This generates a pivot table, which can be used to examine the data based on the second grouping column.\n"
      ],
      "metadata": {
        "id": "7PK4Mr3JR9LE"
      }
    },
    {
      "cell_type": "code",
      "source": [
        "diabetes_pregnancy = data_set.groupby(['Pregnancies', 'Outcome']).size().unstack()\n",
        "\n",
        "diabetes_pregnancy['Total'] = diabetes_pregnancy[0] + diabetes_pregnancy[1]\n",
        "diabetes_pregnancy['Diabetes %'] = (diabetes_pregnancy[1] / diabetes_pregnancy['Total']) * 100\n",
        "diabetes_pregnancy['No Diabetes %'] = (diabetes_pregnancy[0] / diabetes_pregnancy['Total']) * 100\n",
        "\n",
        "diabetes_pregnancy.reset_index(inplace=True)\n",
        "diabetes_pregnancy.rename(columns={0: 'No Diabetes', 1: 'Diabetes'}, inplace=True)\n",
        "\n",
        "plt.figure(figsize=(8,6))\n",
        "plt.plot('Pregnancies', 'Diabetes %', data=diabetes_pregnancy, marker='o', color='red', label='Diabetes')\n",
        "plt.plot('Pregnancies', 'No Diabetes %', data=diabetes_pregnancy, marker='o', color='green', label='No Diabetes')\n",
        "plt.title('Pregnancy impact on the detection of diabetes')\n",
        "plt.xlabel('No of Pregnancies')\n",
        "plt.ylabel('percentage of Patients')\n",
        "plt.legend()\n",
        "plt.show()\n"
      ],
      "metadata": {
        "colab": {
          "base_uri": "https://localhost:8080/",
          "height": 404
        },
        "id": "lVJ5pfDBI5ZG",
        "outputId": "dcc30d0f-3061-4fb6-efbf-4010015f7311"
      },
      "execution_count": null,
      "outputs": [
        {
          "output_type": "display_data",
          "data": {
            "text/plain": [
              "<Figure size 576x432 with 1 Axes>"
            ],
            "image/png": "[encoded data removed]"
          },
          "metadata": {
            "needs_background": "light"
          }
        }
      ]
    },
    {
      "cell_type": "markdown",
      "source": [
        "The diabetes diagnosis values in this updated code are supposed to be 1 and 0, where 1 denotes the patient has diabetes and 0 denotes the patient does not. The code divides the data into groups based on the number of pregnancies and the diabetes outcome, computes the total number of patients for each pregnancy category, calculates the proportion of patients with diabetes and with out diabetes for each pregnancy category, and then plots a line graph to show the relationship between pregnancy and diabetes diagnosis.\n",
        "\n",
        "The resulting graph demonstrates that while the proportion of patients with diabetes typically rises with the number of pregnancies, it eventually reaches a plateau. This implies that caring for pregnant patients may carry a small risk of diabetes, which medical professionals should be mindful of.\n"
      ],
      "metadata": {
        "id": "-en88grt0wi1"
      }
    },
    {
      "cell_type": "markdown",
      "source": [
        "**3. How does the age distribution of patients with diabetes compare to the age distribution of patients without diabetes in this dataset?**"
      ],
      "metadata": {
        "id": "WdhRMprBWDP-"
      }
    },
    {
      "cell_type": "markdown",
      "source": [
        "At first, create two separate datasets for patients with and without diabetes. For each dataset, a density plot is created using seaborn's kdeplot() function, with the age variable on the x-axis and the density on the y-axis. This code reads in the diabetes dataset using pandas, generates distinct datasets for patients with and without diabetes, and plots the density on the y-axis. The label argument gives each figure a name, and the shade=True argument fills in the region under the arcs."
      ],
      "metadata": {
        "id": "80l-qAPUVh0Q"
      }
    },
    {
      "cell_type": "code",
      "source": [
        "diabete = data_set[data_set['Outcome'] == 1]\n",
        "no_diabete = data_set[data_set['Outcome'] == 0]\n",
        "\n",
        "# Set up the plot\n",
        "sns.kdeplot(diabete['Age'], shade=True, color='green', label='Diabetes')\n",
        "sns.kdeplot(no_diabete['Age'], shade=True, color='red', label='No Diabetes')\n",
        "plt.xlabel('Age')\n",
        "plt.ylabel('Density')\n",
        "plt.title('Age Distribution according to Diabetic Status')\n",
        "plt.show()\n"
      ],
      "metadata": {
        "colab": {
          "base_uri": "https://localhost:8080/",
          "height": 940
        },
        "id": "Dd7jWf25hAvc",
        "outputId": "9c521d8e-a1a1-4da9-c56a-8200b7916806"
      },
      "execution_count": null,
      "outputs": [
        {
          "output_type": "stream",
          "name": "stderr",
          "text": [
            "<ipython-input-59-b3d264009a6e>:5: FutureWarning: \n",
            "\n",
            "`shade` is now deprecated in favor of `fill`; setting `fill=True`.\n",
            "This will become an error in seaborn v0.14.0; please update your code.\n",
            "\n",
            "  sns.kdeplot(diabete['Age'], shade=True, color='green', label='Diabetes')\n",
            "<ipython-input-59-b3d264009a6e>:6: FutureWarning: \n",
            "\n",
            "`shade` is now deprecated in favor of `fill`; setting `fill=True`.\n",
            "This will become an error in seaborn v0.14.0; please update your code.\n",
            "\n",
            "  sns.kdeplot(no_diabete['Age'], shade=True, color='red', label='No Diabetes')\n"
          ]
        },
        {
          "output_type": "display_data",
          "data": {
            "text/plain": [
              "<Figure size 2016x1296 with 1 Axes>"
            ],
            "image/png": "[encoded data removed]"
          },
          "metadata": {
            "needs_background": "light"
          }
        }
      ]
    },
    {
      "cell_type": "markdown",
      "source": [
        "The resulting density plot allows us to directly examine the age distributions of individuals with and without diabetes because it overlays the two distributions on the same plot. It is evident that patients with diabetes tend to be slightly older on average than patients without the disease."
      ],
      "metadata": {
        "id": "mLsxpRtCj1oA"
      }
    },
    {
      "cell_type": "markdown",
      "source": [
        "**4. What is the percentage of diabetic individuals in the sample who have a family history of diabetes?**"
      ],
      "metadata": {
        "id": "3XZmEptamIvu"
      }
    },
    {
      "cell_type": "markdown",
      "source": [
        "Understanding the effect of diabetes family history can aid in finding risk factors and adopting protective measures.\n",
        "To do so, we first filter the DataFrame to include only entries where the 'Outcome' value equals 1. (which indicates that the patient has diabetes). Then, using the round() function, we pick the 'DiabetesPedigreeFunction' column (which gauges the genetic risk of diabetes based on family history) and round each number to one decimal point.\n",
        "\n",
        "Then, in the 'DiabetesPedigreeFunction' column,  use the value_counts() function to count the number of instances of each distinct rounded value. Finally, we adjust these numbers by dividing them by the total number of entries in the filtered DataFrame (via the normalize=True argument), returning the percentage of diabetic patients with a particular rounded value for the 'DiabetesPedigreeFunction.\n"
      ],
      "metadata": {
        "id": "y1PIYx7EmmL-"
      }
    },
    {
      "cell_type": "code",
      "source": [
        "dpf = data_set[data_set['Outcome']==1]['DiabetesPedigreeFunction'].apply(lambda x: round(x, 1)).value_counts(normalize=True)\n",
        "print(dpf)\n"
      ],
      "metadata": {
        "colab": {
          "base_uri": "https://localhost:8080/"
        },
        "id": "bzGjMgyamMfE",
        "outputId": "ffb392e7-cbd0-45f4-88b8-1821b7cfba23"
      },
      "execution_count": null,
      "outputs": [
        {
          "output_type": "stream",
          "name": "stdout",
          "text": [
            "0.3    0.197368\n",
            "0.2    0.150585\n",
            "0.4    0.118421\n",
            "0.7    0.096491\n",
            "0.5    0.084795\n",
            "0.6    0.076023\n",
            "0.1    0.055556\n",
            "0.8    0.054094\n",
            "0.9    0.038012\n",
            "1.2    0.030702\n",
            "1.0    0.026316\n",
            "1.1    0.026316\n",
            "1.3    0.019006\n",
            "1.4    0.014620\n",
            "2.1    0.004386\n",
            "2.4    0.004386\n",
            "1.9    0.002924\n",
            "Name: DiabetesPedigreeFunction, dtype: float64\n"
          ]
        }
      ]
    },
    {
      "cell_type": "markdown",
      "source": [
        "The output shows that the greatest percentage of diabetic patients with a diabetes family history is at a 'DiabetesPedigreeFunction' value of 0.3 (19.74%), followed by 0.2 (15.06%) and 0.4 (11.84%). This suggests that there is a link between a family history of diabetes (as measured by the 'DiabetesPedigreeFunction' column) and the probability of developing diabetes (as measured by the 'Outcome' column)."
      ],
      "metadata": {
        "id": "c7zb39gCoH02"
      }
    },
    {
      "cell_type": "markdown",
      "source": [
        "**5. What is the correlation between BMI and age of patients with diabetes?**"
      ],
      "metadata": {
        "id": "OEmmxdRu5g_O"
      }
    },
    {
      "cell_type": "markdown",
      "source": [
        "This code employs NumPy to compute the correlation coefficient between the BMI and age of diabetic individuals. We first limit the dataset to include only diabetic patients (Outcome = 1), and then pick the BMI and Age columns by their column titles. The correlation matrix between these two variables is then calculated using the np.corrcoef() method, and the correlation value is extracted using indexing.\n"
      ],
      "metadata": {
        "id": "xxx9ujvY50Np"
      }
    },
    {
      "cell_type": "code",
      "source": [
        "diabetes_patients = data_set[data_set['Outcome'] == 1]\n",
        "correlation = np.corrcoef(diabetes_patients['BMI'], diabetes_patients['Age'])[0, 1]\n",
        "print(\"Correlation between BMI and age of patients with diabetes: \", correlation)\n"
      ],
      "metadata": {
        "colab": {
          "base_uri": "https://localhost:8080/"
        },
        "id": "Rng75SKp5JTf",
        "outputId": "cc7cdcdc-119b-4b1e-981c-5d9f3d10322c"
      },
      "execution_count": null,
      "outputs": [
        {
          "output_type": "stream",
          "name": "stdout",
          "text": [
            "Correlation between BMI and age of patients with diabetes:  -0.20042843952190217\n"
          ]
        }
      ]
    },
    {
      "cell_type": "markdown",
      "source": [
        "\n",
        "\n",
        "The correlation coefficient number of -0.20042843952190217 indicates that there is a weak negative link between BMI and age of diabetes patients. This means that as diabetic patients mature, their BMI tends to decline slightly on average. The strength of this negative association, however, is weak, implying that age alone may not be a powerful predictor of BMI for diabetic individuals in this sample.\n",
        "\n",
        "\n",
        "\n",
        "Understanding the connection between BMI and age can help patients control their diabetes, as both are significant variables that can impact diabetes management and general health outcomes. For example, when giving medicines or suggesting behavioral adjustments to control diabetes, healthcare practitioners may need to consider a patient's age and BMI. This data can also be used to identify subsets of diabetic patients who may require more focused treatments or extra assistance to control their condition.\n"
      ],
      "metadata": {
        "id": "o9pXlgEC9HkF"
      }
    },
    {
      "cell_type": "markdown",
      "source": [
        "**6. What is the average glucose level of patients with and without diabetes?**"
      ],
      "metadata": {
        "id": "sXFe7La861jd"
      }
    },
    {
      "cell_type": "markdown",
      "source": [
        "The mean glucose level of individuals with and without diabetes is calculated using NumPy and Pandas in this code. We select the dataset based on the outcome value (1 for diabetes, 0 for no diabetes) and compute the average glucose level for each group using the.mean() method."
      ],
      "metadata": {
        "id": "6I45upJu6t-p"
      }
    },
    {
      "cell_type": "code",
      "source": [
        "avg_glucose_diabetes = data_set[data_set['Outcome'] == 1]['Glucose'].mean()\n",
        "avg_glucose_no_diabetes = data_set[data_set['Outcome'] == 0]['Glucose'].mean()\n",
        "print(\"Average glucose level for patients with diabetes: \", avg_glucose_diabetes)\n",
        "print(\"Average glucose level for patients without diabetes: \", avg_glucose_no_diabetes)\n"
      ],
      "metadata": {
        "colab": {
          "base_uri": "https://localhost:8080/"
        },
        "id": "WFXGreU56Win",
        "outputId": "b829124f-3ec5-4acc-83ce-fce700d1a91f"
      },
      "execution_count": null,
      "outputs": [
        {
          "output_type": "stream",
          "name": "stdout",
          "text": [
            "Average glucose level for patients with diabetes:  142.63867257053892\n",
            "Average glucose level for patients without diabetes:  111.23543113826497\n"
          ]
        }
      ]
    },
    {
      "cell_type": "markdown",
      "source": [
        "\n",
        "on average, patients with diabetes have a higher glucose level compared to those without diabetes. Can use this data to set objective glucose values for diabetic patients and track their progress toward meeting these goals. Furthermore, based on their glucose levels, this information can assist in identifying people who are at a greater risk of getting diabetes and taking preventive steps to lower this risk."
      ],
      "metadata": {
        "id": "M8HmLQc476Fz"
      }
    },
    {
      "cell_type": "markdown",
      "source": [
        "**7. Find the median age for patients with and without diabetes who have had higher pregnancies?**"
      ],
      "metadata": {
        "id": "WzOpzq0VQeXw"
      }
    },
    {
      "cell_type": "markdown",
      "source": [
        "Create a new DataFrame called higher_preg by filtering the original DataFrame to select only the rows where the Pregnancies column is greater than 5. then Extract the 'Age' column from the filtered DataFrame using the to_numpy() method,for patients with and without diabetes. Calculate the median age using the  median() function for patients with and without diabetes"
      ],
      "metadata": {
        "id": "qKBHNgt6VIlU"
      }
    },
    {
      "cell_type": "code",
      "source": [
        "higher_preg = data_set[data_set['Pregnancies'] == 5]\n",
        "\n",
        "diabetes_array = higher_preg[higher_preg['Outcome'] == 1]['Age'].to_numpy()\n",
        "undiabetes_array = higher_preg[higher_preg['Outcome'] == 0]['Age'].to_numpy()\n",
        "\n",
        "avg_age_diabetes = np.median(diabetes_array)\n",
        "avg_age_undiabetes = np.median(undiabetes_array)\n",
        "\n",
        "print('The average age of diabetes individuals with higher pregnancies is :', avg_age_diabetes)\n",
        "print('The average age of undiabetes individuals with higher pregnancies is:', avg_age_undiabetes)\n"
      ],
      "metadata": {
        "colab": {
          "base_uri": "https://localhost:8080/"
        },
        "id": "nqM1uNc5Qjo8",
        "outputId": "21427f70-9b52-42bd-d8b4-4bfc38924730"
      },
      "execution_count": null,
      "outputs": [
        {
          "output_type": "stream",
          "name": "stdout",
          "text": [
            "The average age of diabetes individuals with higher pregnancies is : 37.0\n",
            "The average age of undiabetes individuals with higher pregnancies is: 34.0\n"
          ]
        }
      ]
    },
    {
      "cell_type": "markdown",
      "source": [
        "Individuals with diabetes and higher conceptions have an average age of 37.0, while those without diabetes and higher pregnancies have an average age of 34.0.\n",
        "\n",
        "This knowledge could be helpful in understanding how diabetes affects the age at which people become pregnant. However, it is important to note that this knowledge does not teach us anything about the causal link between diabetes and increased pregnancies.\n"
      ],
      "metadata": {
        "id": "SwGrZGSzZUtB"
      }
    },
    {
      "cell_type": "code",
      "source": [
        "!jupyter nbconvert --to html Diabetes_dataset_A504.ipynb"
      ],
      "metadata": {
        "id": "XLQm-sgpeu9K",
        "outputId": "01470937-0272-4f22-e6c7-b1955cb014e2",
        "colab": {
          "base_uri": "https://localhost:8080/"
        }
      },
      "execution_count": null,
      "outputs": [
        {
          "output_type": "stream",
          "name": "stdout",
          "text": [
            "[NbConvertApp] Converting notebook Diabetes_dataset_A504.ipynb to html\n",
            "[NbConvertApp] Writing 926159 bytes to Diabetes_dataset_A504.html\n"
          ]
        }
      ]
    }
  ],
  "metadata": {
    "kernelspec": {
      "display_name": "Python 3",
      "language": "python",
      "name": "python3"
    },
    "language_info": {
      "codemirror_mode": {
        "name": "ipython",
        "version": 3
      },
      "file_extension": ".py",
      "mimetype": "text/x-python",
      "name": "python",
      "nbconvert_exporter": "python",
      "pygments_lexer": "ipython3",
      "version": "3.7.1"
    },
    "colab": {
      "provenance": [],
      "include_colab_link": true
    }
  },
  "nbformat": 4,
  "nbformat_minor": 0
}